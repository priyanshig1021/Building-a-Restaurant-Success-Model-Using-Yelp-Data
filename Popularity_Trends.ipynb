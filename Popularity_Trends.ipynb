{
  "nbformat": 4,
  "nbformat_minor": 0,
  "metadata": {
    "colab": {
      "name": "Research_Question3.ipynb",
      "provenance": [],
      "collapsed_sections": []
    },
    "kernelspec": {
      "name": "python3",
      "display_name": "Python 3"
    },
    "accelerator": "TPU"
  },
  "cells": [
   
    {
      "cell_type": "code",
      "metadata": {
        "id": "2EUtd6QC4aQy",
        "colab_type": "code",
        "outputId": "6dd4a637-cc3a-443e-ee7e-ad74c4592fe6",
        "colab": {
          "base_uri": "https://localhost:8080/",
          "height": 228
        }
      },
      "source": [
        "import nltk\n",
        "from nltk.sentiment.vader import SentimentIntensityAnalyzer\n",
        "import operator\n",
        "import re\n",
        "nltk.download('tagsets')\n",
        "nltk.download('vader_lexicon')\n",
        "nltk.download('punkt')\n",
        "nltk.download('averaged_perceptron_tagger')"
      ],
      "execution_count": 0,
      "outputs": [
        {
          "output_type": "stream",
          "text": [
            "/usr/local/lib/python3.6/dist-packages/nltk/twitter/__init__.py:20: UserWarning: The twython library has not been installed. Some functionality from the twitter package will not be available.\n",
            "  warnings.warn(\"The twython library has not been installed. \"\n"
          ],
          "name": "stderr"
        },
        {
          "output_type": "stream",
          "text": [
            "[nltk_data] Downloading package tagsets to /root/nltk_data...\n",
            "[nltk_data]   Unzipping help/tagsets.zip.\n",
            "[nltk_data] Downloading package vader_lexicon to /root/nltk_data...\n",
            "[nltk_data] Downloading package punkt to /root/nltk_data...\n",
            "[nltk_data]   Unzipping tokenizers/punkt.zip.\n",
            "[nltk_data] Downloading package averaged_perceptron_tagger to\n",
            "[nltk_data]     /root/nltk_data...\n",
            "[nltk_data]   Unzipping taggers/averaged_perceptron_tagger.zip.\n"
          ],
          "name": "stdout"
        },
        {
          "output_type": "execute_result",
          "data": {
            "text/plain": [
              "True"
            ]
          },
          "metadata": {
            "tags": []
          },
          "execution_count": 8
        }
      ]
    },
    {
      "cell_type": "code",
      "metadata": {
        "id": "rXTedXZXN2Qr",
        "colab_type": "code",
        "colab": {}
      },
      "source": [
        "#RESEARCH QUESTION 1\n",
        "def labels(review,rating):\n",
        "  def lr(data):\n",
        "    from sklearn.linear_model import LogisticRegression\n",
        "    from sklearn.metrics import accuracy_score\n",
        "    import pandas as pd\n",
        "    \n",
        "    X_train=data1.iloc[:,:-1]\n",
        "    y_train=data1.iloc[:,-1]\n",
        "    LR = LogisticRegression(solver='lbfgs',random_state=43,max_iter=1000)\n",
        "    LR.fit(X_train,y_train)\n",
        "    return LR.predict(data.iloc[:,:])\n",
        "\n",
        "  from nltk.tokenize import sent_tokenize,word_tokenize\n",
        "  from nltk.sentiment.vader import SentimentIntensityAnalyzer\n",
        "  import nltk\n",
        "  from nltk.data import load\n",
        "  import numpy as np\n",
        "\n",
        "  ## Features\n",
        "  tagdict = load('help/tagsets/upenn_tagset.pickle')\n",
        "  sid = SentimentIntensityAnalyzer()\n",
        "  POS,length,avg_word_len,num_sent,avg_sent_len,positive_percent,neg_percent,bi,uni={},[],[],[],[],[],[],{},{}\n",
        "  import pandas as pd\n",
        "  dat=pd.DataFrame()\n",
        "  for i in POS:\n",
        "    dat[i]=POS[i]\n",
        "  for i in tagdict.keys():\n",
        "    POS['POS_'+i]=[]\n",
        "\n",

        "  global data1   \n",
        "  data1 = pd.read_csv('data.csv')\n",
        "  bigram,unigram=[],[]\n",
        "  for i in data1.columns:\n",
        "      if 'bigram_' in i:\n",
        "          bigram.append(i[i.index('_')+1:])\n",
        "      elif 'unigram_' in i:\n",
        "          unigram.append(i[i.index('_')+1:])\n",
        "\n",
        "  for j in bigram:\n",
        "    bi['bigram_'+j]=[0]*len(review)\n",
        "\n",
        "  for j in unigram:\n",
        "    uni['unigram_'+j]=[0]*len(review)\n",
        "\n",
        "  dummy_index=0\n",
        "  for i in review:\n",
        "    length.append(len(i))\n",
        "    \n",
        "    ad=[len(z) for z in i.split(\" \")]\n",
        "    avg_word_len.append(sum(ad)/len(ad))\n",
        "    \n",
        "    a= i.split(\" \")\n",
        "    positive_percent.append(len([s for s in a if sid.polarity_scores(s)['compound']>0])/len(i))\n",
        "    neg_percent.append(len([s for s in a if sid.polarity_scores(s)['compound']<0])/len(i))\n",
        "    \n",
        "    num_sent.append(len(sent_tokenize(i)))\n",
        "    \n",
        "    avg_sent_len.append(sum(len(word_tokenize(z)) for z in sent_tokenize(i))/len(sent_tokenize(i)))\n",
        "    \n",
        "    tags = nltk.pos_tag(nltk.word_tokenize(i))\n",
        "    t=[]\n",
        "    for j in tags:\n",
        "      t.append(j[1])\n",
        "    for j in tagdict.keys():\n",
        "      if j in np.unique(np.array(t)):\n",
        "        POS['POS_'+j].append(t.count(j)/len(t))\n",
        "      else:\n",
        "        POS['POS_'+j].append(0)\n",
        "\n",
        "    for j in bigram:\n",
        "      if j in i:\n",
        "        bi['bigram_'+j][dummy_index]=1\n",
        "\n",
        "    for j in unigram:\n",
        "      if j in i:\n",
        "        uni['unigram_'+j][dummy_index]=1\n",
        "    dummy_index+=1\n",
        "\n",
        "  #Dataset generation\n",
        "  import pandas as pd\n",
        "  data=pd.DataFrame()\n",
        "  data['rating']=rating\n",
        "  data['length of the review']=length\n",
        "  data['average word length']=avg_word_len\n",
        "  data['number of sentences']=num_sent\n",
        "  data['average sentence length']=avg_sent_len\n",
        "  for i in POS:\n",
        "    data[i]=POS[i]\n",
        "  data['positive %']=positive_percent\n",
        "  data['negative %']=neg_percent\n",
        "  for i in uni:\n",
        "    data[i]=uni[i]\n",
        "  for i in bi:\n",
        "    data[i]=bi[i]\n",
        "  \n",
        "  return lr(data)"
      ],
      "execution_count": 0,
      "outputs": []
    },
    {
      "cell_type": "code",
      "metadata": {
        "id": "tCEJmism4JDL",
        "colab_type": "code",
        "outputId": "c5dbafe4-46fc-4fcf-e1b4-2ae0b17b1ff9",
        "colab": {
          "base_uri": "https://localhost:8080/",
          "height": 202
        }
      },
      "source": [
        "import pandas as pd\n",
        "\n",
        "rev = pd.read_csv(\"dataset3_nolabels.csv\")\n",
        "rev = rev.drop(['Unnamed: 0'],axis=1)\n",
        "\n",
        "rev.head()"
      ],
      "execution_count": 0,
      "outputs": [
        {
          "output_type": "execute_result",
          "data": {
            "text/html": [
              "<div>\n",
              "<style scoped>\n",
              "    .dataframe tbody tr th:only-of-type {\n",
              "        vertical-align: middle;\n",
              "    }\n",
              "\n",
              "    .dataframe tbody tr th {\n",
              "        vertical-align: top;\n",
              "    }\n",
              "\n",
              "    .dataframe thead th {\n",
              "        text-align: right;\n",
              "    }\n",
              "</style>\n",
              "<table border=\"1\" class=\"dataframe\">\n",
              "  <thead>\n",
              "    <tr style=\"text-align: right;\">\n",
              "      <th></th>\n",
              "      <th>business_id</th>\n",
              "      <th>res_name</th>\n",
              "      <th>date</th>\n",
              "      <th>text</th>\n",
              "      <th>stars</th>\n",
              "    </tr>\n",
              "  </thead>\n",
              "  <tbody>\n",
              "    <tr>\n",
              "      <th>0</th>\n",
              "      <td>AEx2SYEUJmTxVVB18LlCwA</td>\n",
              "      <td>Wilensky's</td>\n",
              "      <td>2016-05-28</td>\n",
              "      <td>Super simple place but amazing nonetheless. It...</td>\n",
              "      <td>5.0</td>\n",
              "    </tr>\n",
              "    <tr>\n",
              "      <th>1</th>\n",
              "      <td>VR6GpWIda3SfvPC-lg9H3w</td>\n",
              "      <td>Tuck Shop</td>\n",
              "      <td>2016-05-28</td>\n",
              "      <td>Small unassuming place that changes their menu...</td>\n",
              "      <td>5.0</td>\n",
              "    </tr>\n",
              "    <tr>\n",
              "      <th>2</th>\n",
              "      <td>CKC0-MOWMqoeWf6s-szl8g</td>\n",
              "      <td>Lester's Deli</td>\n",
              "      <td>2016-05-28</td>\n",
              "      <td>Lester's is located in a beautiful neighborhoo...</td>\n",
              "      <td>5.0</td>\n",
              "    </tr>\n",
              "    <tr>\n",
              "      <th>3</th>\n",
              "      <td>ACFtxLv8pGrrxMm6EgjreA</td>\n",
              "      <td>Five Guys</td>\n",
              "      <td>2016-05-28</td>\n",
              "      <td>Love coming here. Yes the place always needs t...</td>\n",
              "      <td>4.0</td>\n",
              "    </tr>\n",
              "    <tr>\n",
              "      <th>4</th>\n",
              "      <td>s2I_Ni76bjJNK9yG60iD-Q</td>\n",
              "      <td>Maison Christian Faure</td>\n",
              "      <td>2016-05-28</td>\n",
              "      <td>Had their chocolate almond croissant and it wa...</td>\n",
              "      <td>4.0</td>\n",
              "    </tr>\n",
              "  </tbody>\n",
              "</table>\n",
              "</div>"
            ],
            "text/plain": [
              "              business_id  ... stars\n",
              "0  AEx2SYEUJmTxVVB18LlCwA  ...   5.0\n",
              "1  VR6GpWIda3SfvPC-lg9H3w  ...   5.0\n",
              "2  CKC0-MOWMqoeWf6s-szl8g  ...   5.0\n",
              "3  ACFtxLv8pGrrxMm6EgjreA  ...   4.0\n",
              "4  s2I_Ni76bjJNK9yG60iD-Q  ...   4.0\n",
              "\n",
              "[5 rows x 5 columns]"
            ]
          },
          "metadata": {
            "tags": []
          },
          "execution_count": 50
        }
      ]
    },
    {
      "cell_type": "code",
      "metadata": {
        "id": "iLlOA7yXQUPF",
        "colab_type": "code",
        "colab": {}
      },
      "source": [
        "#labelling each review using Research Question1 Model\n",
        "review = rev['text'].tolist()\n",
        "rating = rev['stars'].tolist()\n",
        "label = labels(review,rating)\n",
        "rev['label'] = label\n",
        "\n",
        "#assigning polarity to each of the reviews\n",
        "rev['polarity'] = ''\n",
        "sia = SentimentIntensityAnalyzer()\n",
        "for i,row in rev.iterrows():\n",
        "    sentence = row['text']\n",
        "    s = sia.polarity_scores(sentence)\n",
        "    row['polarity'] = s['compound']\n",
        "rev.to_csv('dataset3_wlabels.csv')"
      ],
      "execution_count": 0,
      "outputs": []
    },
    {
      "cell_type": "code",
      "metadata": {
        "id": "yfWkhfugXLuB",
        "colab_type": "code",
        "outputId": "b4f112de-981b-425c-8382-f2a2fae4bfe0",
        "colab": {
          "base_uri": "https://localhost:8080/",
          "height": 72
        }
      },
      "source": [
        "import pandas as pd\n",
        "rev = pd.read_csv('dataset3_wlabels.csv')"
      ],
      "execution_count": 0,
      "outputs": [
        {
          "output_type": "stream",
          "text": [
            "/usr/local/lib/python3.6/dist-packages/IPython/core/interactiveshell.py:2718: DtypeWarning: Columns (1) have mixed types. Specify dtype option on import or set low_memory=False.\n",
            "  interactivity=interactivity, compiler=compiler, result=result)\n"
          ],
          "name": "stderr"
        }
      ]
    },
    {
      "cell_type": "code",
      "metadata": {
        "id": "20ej6bkbXQhQ",
        "colab_type": "code",
        "outputId": "e29f1597-31eb-4059-febc-450d855f26b9",
        "colab": {
          "base_uri": "https://localhost:8080/",
          "height": 202
        }
      },
      "source": [
        "rev = rev.drop(['Unnamed: 0','Unnamed: 0.1'],axis=1)\n",
        "rev.head()"
      ],
      "execution_count": 0,
      "outputs": [
        {
          "output_type": "execute_result",
          "data": {
            "text/html": [
              "<div>\n",
              "<style scoped>\n",
              "    .dataframe tbody tr th:only-of-type {\n",
              "        vertical-align: middle;\n",
              "    }\n",
              "\n",
              "    .dataframe tbody tr th {\n",
              "        vertical-align: top;\n",
              "    }\n",
              "\n",
              "    .dataframe thead th {\n",
              "        text-align: right;\n",
              "    }\n",
              "</style>\n",
              "<table border=\"1\" class=\"dataframe\">\n",
              "  <thead>\n",
              "    <tr style=\"text-align: right;\">\n",
              "      <th></th>\n",
              "      <th>business_id</th>\n",
              "      <th>res_name</th>\n",
              "      <th>date</th>\n",
              "      <th>text</th>\n",
              "      <th>stars</th>\n",
              "      <th>label</th>\n",
              "      <th>polarity</th>\n",
              "    </tr>\n",
              "  </thead>\n",
              "  <tbody>\n",
              "    <tr>\n",
              "      <th>0</th>\n",
              "      <td>AEx2SYEUJmTxVVB18LlCwA</td>\n",
              "      <td>Wilensky's</td>\n",
              "      <td>2016-05-28</td>\n",
              "      <td>Super simple place but amazing nonetheless. It...</td>\n",
              "      <td>5.0</td>\n",
              "      <td>1.0</td>\n",
              "      <td>0.9551</td>\n",
              "    </tr>\n",
              "    <tr>\n",
              "      <th>1</th>\n",
              "      <td>VR6GpWIda3SfvPC-lg9H3w</td>\n",
              "      <td>Tuck Shop</td>\n",
              "      <td>2016-05-28</td>\n",
              "      <td>Small unassuming place that changes their menu...</td>\n",
              "      <td>5.0</td>\n",
              "      <td>1.0</td>\n",
              "      <td>0.8167</td>\n",
              "    </tr>\n",
              "    <tr>\n",
              "      <th>2</th>\n",
              "      <td>CKC0-MOWMqoeWf6s-szl8g</td>\n",
              "      <td>Lester's Deli</td>\n",
              "      <td>2016-05-28</td>\n",
              "      <td>Lester's is located in a beautiful neighborhoo...</td>\n",
              "      <td>5.0</td>\n",
              "      <td>1.0</td>\n",
              "      <td>0.6249</td>\n",
              "    </tr>\n",
              "    <tr>\n",
              "      <th>3</th>\n",
              "      <td>ACFtxLv8pGrrxMm6EgjreA</td>\n",
              "      <td>Five Guys</td>\n",
              "      <td>2016-05-28</td>\n",
              "      <td>Love coming here. Yes the place always needs t...</td>\n",
              "      <td>4.0</td>\n",
              "      <td>1.0</td>\n",
              "      <td>0.8560</td>\n",
              "    </tr>\n",
              "    <tr>\n",
              "      <th>4</th>\n",
              "      <td>s2I_Ni76bjJNK9yG60iD-Q</td>\n",
              "      <td>Maison Christian Faure</td>\n",
              "      <td>2016-05-28</td>\n",
              "      <td>Had their chocolate almond croissant and it wa...</td>\n",
              "      <td>4.0</td>\n",
              "      <td>1.0</td>\n",
              "      <td>0.8313</td>\n",
              "    </tr>\n",
              "  </tbody>\n",
              "</table>\n",
              "</div>"
            ],
            "text/plain": [
              "              business_id                res_name  ... label polarity\n",
              "0  AEx2SYEUJmTxVVB18LlCwA              Wilensky's  ...   1.0   0.9551\n",
              "1  VR6GpWIda3SfvPC-lg9H3w               Tuck Shop  ...   1.0   0.8167\n",
              "2  CKC0-MOWMqoeWf6s-szl8g           Lester's Deli  ...   1.0   0.6249\n",
              "3  ACFtxLv8pGrrxMm6EgjreA               Five Guys  ...   1.0   0.8560\n",
              "4  s2I_Ni76bjJNK9yG60iD-Q  Maison Christian Faure  ...   1.0   0.8313\n",
              "\n",
              "[5 rows x 7 columns]"
            ]
          },
          "metadata": {
            "tags": []
          },
          "execution_count": 55
        }
      ]
    },
    {
      "cell_type": "code",
      "metadata": {
        "id": "Y6V0_Pkf4V88",
        "colab_type": "code",
        "colab": {}
      },
      "source": [
        "import matplotlib.pyplot as plt\n",
        "\n",
        "def trend(res,view,mon_year='2016'):\n",
        "    p_score = {}\n",
        "    score = {}\n",
        "    d = {}\n",
        "    \n",
        "    if view == 'year':\n",
        "      years = [str(y) for y in range(2006,2018)]\n",
        "      p_score = dict.fromkeys(years,0)\n",
        "      d = dict.fromkeys(years,0)\n",
        "      for i,row in rev.iterrows():\n",
        "          if row['res_name'] == res and row['label']==1:\n",
        "            for y in years:\n",
        "              if re.search(y, row['date']):\n",
        "                p_score[y] += row['polarity']\n",
        "                d[y] += 1\n",
        "      for y in years:\n",
        "        if d[y] == 0:\n",
        "          score[y] = 0\n",
        "        else:\n",
        "          score[y] = p_score[y]/d[y]\n",
        "      plt.xlabel('Year View')\n",
        "      plt.ylabel('Popularity Score')\n",
        "      plt.title('Popularity of Restaurant '+res+' over the Years')\n",
        "      dates = list(score.keys())          \n",
        "      trend = list(score.values())        \n",
        "      plt.plot_date(dates, trend, '-')\n",
        "    \n",
        "    elif view == 'month':\n",
        "      months = ['0'+str(m) for m in range(1,12) if m<10]\n",
        "      months.extend(['10','11','12'])\n",
        "      p_score = dict.fromkeys(months,0)\n",
        "      d = dict.fromkeys(months,0)\n",
        "      for i,row in rev.iterrows():\n",
        "        if row['res_name'] == res and row['label']==1:\n",
        "          for m in months:\n",
        "            if re.search(str(mon_year)+'-'+ m, row['date']): \n",
        "                p_score[m] += row['polarity']\n",
        "                d[m] += 1\n",
        "      for m in months:\n",
        "        if d[m] == 0:\n",
        "          score[m] = 0\n",
        "        else:\n",
        "          score[m] = p_score[m]/d[m]\n",
        "      plt.xlabel('Month View')\n",
        "      plt.ylabel('Popularity Score')\n",
        "      plt.title('Popularity of Restaurant '+res+' over the Months for the year:'+mon_year)\n",
        "      dates = list(score.keys())          \n",
        "      trend = list(score.values())        \n",
        "      plt.plot_date(dates, trend, '-')\n",
        "      \n",
        "    elif view == 'quarter':\n",
        "      months = ['0'+str(m) for m in range(1,12) if m<10]\n",
        "      months.extend(['10','11','12'])\n",
        "      quart = {'1st quarter':['01','02','03'],'2nd quarter':['04','05','06'],'3rd quarter':['07','08','09'],'4th quarter':['10','11','12']}\n",
        "      p_score = dict.fromkeys(quart.keys(),0)\n",
        "      d = dict.fromkeys(quart.keys(),0)\n",
        "      for i,row in rev.iterrows():\n",
        "        if row['res_name'] == res and row['label']==1:\n",
        "          for m in months:\n",
        "            if re.search(str(mon_year)+'-'+ m, row['date']): \n",
        "              for k,v in quart.items():\n",
        "                if m in v: \n",
        "                  p_score[k] += row['polarity']\n",
        "                  d[k] += 1\n",
        "      for k in quart:\n",
        "        if d[k] == 0:\n",
        "          score[k] = 0\n",
        "        else:\n",
        "          score[k] = p_score[k]/d[k]\n",
        "      plt.xlabel('Quarter View')\n",
        "      plt.ylabel('Popularity Score')\n",
        "      plt.title('Popularity of Restaurant '+res+' over the Quarters for the year:'+mon_year)\n",
        "      dates = list(score.keys())          \n",
        "      trend = list(score.values())        \n",
        "      plt.plot_date(dates, trend, '-')\n",
        "  "
      ],
      "execution_count": 0,
      "outputs": []
    },
    {
      "cell_type": "code",
      "metadata": {
        "id": "9FdDPS_sAvZD",
        "colab_type": "code",
        "outputId": "95c051fd-6549-469a-d988-6be23cd84c0a",
        "colab": {
          "base_uri": "https://localhost:8080/",
          "height": 295
        }
      },
      "source": [
        "trend(\"Juan's Flaming Fajitas & Cantina\",\"year\")"
      ],
      "execution_count": 0,
      "outputs": [
        {
          "output_type": "display_data",
          "data": {
            "image/png": "[encoded data removed]",
            "text/plain": [
              "<Figure size 432x288 with 1 Axes>"
            ]
          },
          "metadata": {
            "tags": []
          }
        }
      ]
    },
    {
      "cell_type": "code",
      "metadata": {
        "id": "gvZ0XANhLzNG",
        "colab_type": "code",
        "outputId": "70f6e145-fe80-4e7e-cf0f-93d8647175fc",
        "colab": {
          "base_uri": "https://localhost:8080/",
          "height": 295
        }
      },
      "source": [
        "trend(\"Juan's Flaming Fajitas & Cantina\",\"month\")"
      ],
      "execution_count": 0,
      "outputs": [
        {
          "output_type": "display_data",
          "data": {
            "image/png": "[encoded data removed]",
            "text/plain": [
              "<Figure size 432x288 with 1 Axes>"
            ]
          },
          "metadata": {
            "tags": []
          }
        }
      ]
    },
    {
      "cell_type": "code",
      "metadata": {
        "id": "DGQ3LVHveB_T",
        "colab_type": "code",
        "outputId": "496d6267-84df-4e6e-8354-aa14b47e84f8",
        "colab": {
          "base_uri": "https://localhost:8080/",
          "height": 295
        }
      },
      "source": [
        "trend(\"Juan's Flaming Fajitas & Cantina\",\"month\",\"2014\")"
      ],
      "execution_count": 0,
      "outputs": [
        {
          "output_type": "display_data",
          "data": {
            "image/png": "[encoded data removed]",
            "text/plain": [
              "<Figure size 432x288 with 1 Axes>"
            ]
          },
          "metadata": {
            "tags": []
          }
        }
      ]
    },
    {
      "cell_type": "code",
      "metadata": {
        "id": "_MqXVLyj-ZA7",
        "colab_type": "code",
        "outputId": "37795434-802d-4575-b791-c3f38303c69b",
        "colab": {
          "base_uri": "https://localhost:8080/",
          "height": 295
        }
      },
      "source": [
        "trend(\"Juan's Flaming Fajitas & Cantina\",\"quarter\")"
      ],
      "execution_count": 0,
      "outputs": [
        {
          "output_type": "display_data",
          "data": {
            "image/png": "[encoded data removed]",
            "text/plain": [
              "<Figure size 432x288 with 1 Axes>"
            ]
          },
          "metadata": {
            "tags": []
          }
        }
      ]
    },
    {
      "cell_type": "code",
      "metadata": {
        "id": "OLYL0A55B24Y",
        "colab_type": "code",
        "colab": {}
      },
      "source": [
        ""
      ],
      "execution_count": 0,
      "outputs": []
    }
  ]
}
