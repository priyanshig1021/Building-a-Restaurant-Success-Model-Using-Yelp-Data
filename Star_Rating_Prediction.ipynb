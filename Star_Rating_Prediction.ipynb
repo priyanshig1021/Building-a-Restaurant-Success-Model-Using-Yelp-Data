{
  "nbformat": 4,
  "nbformat_minor": 0,
  "metadata": {
    "colab": {
      "name": "Research_Question2.ipynb",
      "provenance": [],
      "collapsed_sections": []
    },
    "kernelspec": {
      "name": "python3",
      "display_name": "Python 3"
    },
    "accelerator": "TPU"
  },
  "cells": [
    
    {
      "cell_type": "code",
      "metadata": {
        "id": "mHAbedLXB74S",
        "colab_type": "code",
        "colab": {}
      },
      "source": [
        "# The implementation of all the algorithms have been referenced from scikit-learn documentation.\n",
        "import numpy as np\n",
        "import pandas as pd\n",
        "from sklearn.metrics import mean_squared_error\n",
        "from sklearn.model_selection import train_test_split\n",
        "from sklearn.decomposition import PCA\n",
        "from sklearn.feature_selection import SelectKBest, chi2 \n",
        "\n",

        "\n",
        "df = pd.read_csv(\"business.csv\")\n",
        "X = df.iloc[:,4:]\n",
        "y = df.iloc[:,3]\n",
        "y = y.astype('int')"
      ],
      "execution_count": 0,
      "outputs": []
    },
    {
      "cell_type": "code",
      "metadata": {
        "id": "YBSF8VpzpzRB",
        "colab_type": "code",
        "outputId": "4e8dd8ae-92de-4092-b499-fb697c6b97d6",
        "colab": {
          "base_uri": "https://localhost:8080/",
          "height": 153
        }
      },
      "source": [
        "# X = SelectKBest(chi2, k=200).fit_transform(X, y)\n",
        "# y = y.values.reshape(y.shape[0],1)\n",
        "# print(X.shape)\n",
        "# print(y.shape)\n",
        "# X_train, X_test, y_train, y_test = train_test_split(X, y, test_size=0.3, random_state=42)\n",
        "\n",
        "#Multiple linear regression\n",
        "mse = []\n",
        "mse_train = []\n",
        "for i in range(100,400,100):\n",
        "  pca = PCA(n_components=i)\n",
        "  X1 = pca.fit_transform(X)\n",
        "  X_train, X_test, y_train, y_test = train_test_split(X1, y, test_size=0.3, random_state=42)\n",
        "  from sklearn.linear_model import LinearRegression\n",
        "  reg = LinearRegression().fit(X_train, y_train)\n",
        "  y_pred = reg.predict(X_train)\n",
        "  mse_train.append(mean_squared_error(y_train,y_pred))\n",
        "\n",
        "  y_pred = reg.predict(X_test)\n",
        "  mse.append(mean_squared_error(y_test,y_pred))\n",
        "print(\"The ideal no. of features: \",(mse.index(min(mse))+1)*100) \n",
        "print('==== Training:')\n",
        "print(\"The mean sqaured error is :\",min(mse_train))\n",
        "print(\"Root Mean Squared error: \",np.sqrt(min(mse_train)))\n",
        "print('\\n==== Testing:')\n",
        "print(\"The mean sqaured error is :\",min(mse))\n",
        "print(\"Root Mean Squared error: \",np.sqrt(min(mse)))"
      ],
      "execution_count": 0,
      "outputs": [
        {
          "output_type": "stream",
          "text": [
            "The ideal no. of features:  300\n",
            "==== Training:\n",
            "The mean sqaured error is : 0.5609269807807401\n",
            "Root Mean Squared error:  0.7489505863411418\n",
            "\n",
            "==== Testing:\n",
            "The mean sqaured error is : 0.5772762042950652\n",
            "Root Mean Squared error:  0.7597869466469303\n"
          ],
          "name": "stdout"
        }
      ]
    },
    {
      "cell_type": "code",
      "metadata": {
        "id": "LAyGUyiZ8Igh",
        "colab_type": "code",
        "colab": {}
      },
      "source": [
        "from sklearn.decomposition import PCA\n",
        "pca = PCA(n_components=300)\n",
        "X = pca.fit_transform(X)\n",
        "X_train, X_test, y_train, y_test = train_test_split(X, y, test_size=0.3, random_state=42)"
      ],
      "execution_count": 0,
      "outputs": []
    },
    {
      "cell_type": "code",
      "metadata": {
        "id": "-E_TzFmu-phj",
        "colab_type": "code",
        "outputId": "cdc6ffd1-80cc-4368-e176-bd8e2f8ce808",
        "colab": {
          "base_uri": "https://localhost:8080/",
          "height": 153
        }
      },
      "source": [
        "#Decision Tree Regressor\n",
        "from sklearn.tree import DecisionTreeRegressor\n",
        "dt = DecisionTreeRegressor(random_state=42).fit(X_train, y_train)\n",
        "\n",
        "print(\"Decision Tree Regressor: \")\n",
        "print('==== Training:')\n",
        "y_pred = dt.predict(X_train)\n",
        "print(\"Mean Squared error: \",mean_squared_error(y_train,y_pred))\n",
        "print(\"Root Mean Squared error: \",np.sqrt(mean_squared_error(y_train,y_pred)))\n",
        "print('\\n==== Testing:')\n",
        "y_pred = dt.predict(X_test)\n",
        "print(\"Mean Squared error: \",mean_squared_error(y_test,y_pred))\n",
        "print(\"Root Mean Squared error: \",np.sqrt(mean_squared_error(y_test,y_pred)))"
      ],
      "execution_count": 0,
      "outputs": [
        {
          "output_type": "stream",
          "text": [
            "Decision Tree Regressor: \n",
            "==== Training:\n",
            "Mean Squared error:  0.0351960212835919\n",
            "Root Mean Squared error:  0.18760602677843774\n",
            "\n",
            "==== Testing:\n",
            "Mean Squared error:  1.0939107941683528\n",
            "Root Mean Squared error:  1.0459019046585358\n"
          ],
          "name": "stdout"
        }
      ]
    },
    {
      "cell_type": "code",
      "metadata": {
        "id": "AjtPIA7fAEsc",
        "colab_type": "code",
        "outputId": "b2f702d6-9123-4816-f416-406bf952e646",
        "colab": {
          "base_uri": "https://localhost:8080/",
          "height": 153
        }
      },
      "source": [
        "#Random Forest\n",
        "from sklearn.ensemble import RandomForestRegressor\n",
        "rf = RandomForestRegressor(n_estimators=30, random_state=42).fit(X_train, y_train)\n",
        "# y_pred = rf.predict(X_test)\n",
        "print(\"RandomForestRegressor: \")\n",
        "print('==== Training:')\n",
        "y_pred = rf.predict(X_train)\n",
        "print(\"Mean Squared error: \",mean_squared_error(y_train,y_pred))\n",
        "print(\"Root Mean Squared error: \",np.sqrt(mean_squared_error(y_train,y_pred)))\n",
        "print('\\n==== Testing:')\n",
        "y_pred = rf.predict(X_test)\n",
        "print(\"Mean Squared error: \",mean_squared_error(y_test,y_pred))\n",
        "print(\"Root Mean Squared error: \",np.sqrt(mean_squared_error(y_test,y_pred)))"
      ],
      "execution_count": 0,
      "outputs": [
        {
          "output_type": "stream",
          "text": [
            "RandomForestRegressor: \n",
            "==== Training:\n",
            "Mean Squared error:  0.11435813051254834\n",
            "Root Mean Squared error:  0.33816878997410205\n",
            "\n",
            "==== Testing:\n",
            "Mean Squared error:  0.6240074032288073\n",
            "Root Mean Squared error:  0.7899413922746468\n"
          ],
          "name": "stdout"
        }
      ]
    },
    {
      "cell_type": "code",
      "metadata": {
        "id": "Ue4VxqVI9P1Z",
        "colab_type": "code",
        "outputId": "8075874c-d228-45fc-aef2-57a368ee4b9f",
        "colab": {
          "base_uri": "https://localhost:8080/",
          "height": 153
        }
      },
      "source": [
        "#K-nearest neighbours\n",
        "from sklearn.neighbors import KNeighborsRegressor\n",
        "k = KNeighborsRegressor(n_neighbors=5).fit(X, y) \n",
        "# y_pred = k.predict(X_test)\n",
        "print(\"Knearest neighbours Regressor: \")\n",
        "print('==== Training:')\n",
        "y_pred = k.predict(X_train)\n",
        "print(\"Mean Squared error: \",mean_squared_error(y_train,y_pred))\n",
        "print(\"Root Mean Squared error: \",np.sqrt(mean_squared_error(y_train,y_pred)))\n",
        "print('\\n==== Testing:')\n",
        "y_pred = k.predict(X_test)\n",
        "print(\"Mean Squared error: \",mean_squared_error(y_test,y_pred))\n",
        "print(\"Root Mean Squared error: \",np.sqrt(mean_squared_error(y_test,y_pred)))"
      ],
      "execution_count": 0,
      "outputs": [
        {
          "output_type": "stream",
          "text": [
            "Knearest neighbours Regressor: \n",
            "==== Training:\n",
            "Mean Squared error:  0.4431042059008161\n",
            "Root Mean Squared error:  0.6656607288257406\n",
            "\n",
            "==== Testing:\n",
            "Mean Squared error:  0.45502746246796055\n",
            "Root Mean Squared error:  0.6745572343900557\n"
          ],
          "name": "stdout"
        }
      ]
    },
    {
      "cell_type": "code",
      "metadata": {
        "id": "hBNkCyV3pcGW",
        "colab_type": "code",
        "outputId": "72a5200b-a0bf-4f05-df03-9700eda65f85",
        "colab": {
          "base_uri": "https://localhost:8080/",
          "height": 170
        }
      },
      "source": [
        "#Neural Network\n",
        "#The implementation of below algorithm has been referenced from keras documentation\n",
        "import tensorflow as tf\n",
        "tf.compat.v1.logging.set_verbosity(tf.compat.v1.logging.ERROR)\n",
        "from keras import Sequential\n",
        "from keras.layers import Dense,Dropout\n",
        "num_hidden_layers=3\n",
        "regressor = Sequential()\n",
        "\n",
        "regressor.add(Dense(128, activation='relu', kernel_initializer='random_normal', input_dim=X_train.shape[1]))\n",
        "regressor.add(Dropout(0.2))\n",
        "for i in range(num_hidden_layers-1):\n",
        "  regressor.add(Dense(128, activation='relu', kernel_initializer='random_normal'))\n",
        "  regressor.add(Dropout(0.2))\n",
        "\n",
        "regressor.add(Dense(1, activation='linear', kernel_initializer='random_normal'))\n",
        "\n",
        "regressor.compile(optimizer='adam',loss='mean_squared_error')\n",
        "regressor.fit(X_train,y_train, epochs=20,verbose=0)\n",
        "y_pred = regressor.predict(X_test)\n",
        "print(\"Neural Networks: \")\n",
        "print('==== Training:')\n",
        "y_pred = regressor.predict(X_train)\n",
        "print(\"Mean Squared error: \",mean_squared_error(y_train,y_pred))\n",
        "print(\"Root Mean Squared error: \",np.sqrt(mean_squared_error(y_train,y_pred)))\n",
        "print('\\n==== Testing:')\n",
        "y_pred = regressor.predict(X_test)\n",
        "print(\"Mean Squared error: \",mean_squared_error(y_test,y_pred))\n",
        "print(\"Root Mean Squared error: \",np.sqrt(mean_squared_error(y_test,y_pred)))"
      ],
      "execution_count": 0,
      "outputs": [
        {
          "output_type": "stream",
          "text": [
            "Using TensorFlow backend.\n"
          ],
          "name": "stderr"
        },
        {
          "output_type": "stream",
          "text": [
            "Neural Networks: \n",
            "==== Training:\n",
            "Mean Squared error:  0.5221397628062207\n",
            "Root Mean Squared error:  0.7225923904984197\n",
            "\n",
            "==== Testing:\n",
            "Mean Squared error:  0.5644458839334424\n",
            "Root Mean Squared error:  0.7512961359766483\n"
          ],
          "name": "stdout"
        }
      ]
    }
  ]
}
